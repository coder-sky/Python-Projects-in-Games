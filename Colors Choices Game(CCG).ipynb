{
 "cells": [
  {
   "cell_type": "code",
   "execution_count": 1,
   "id": "1d680910",
   "metadata": {},
   "outputs": [],
   "source": [
    "import random as r\n",
    "import time"
   ]
  },
  {
   "cell_type": "code",
   "execution_count": 2,
   "id": "028d6662",
   "metadata": {},
   "outputs": [],
   "source": [
    "def choice(i):\n",
    "    if i==1:\n",
    "        color='red'\n",
    "    elif i==2:\n",
    "        color='yellow'\n",
    "    elif i==3:\n",
    "        color='orange'\n",
    "    elif i==4:\n",
    "        color='green'\n",
    "    else:\n",
    "        color='green'\n",
    "    return color\n",
    "        "
   ]
  },
  {
   "cell_type": "code",
   "execution_count": 3,
   "id": "57bf3249",
   "metadata": {},
   "outputs": [
    {
     "name": "stdout",
     "output_type": "stream",
     "text": [
      "Winning Rules of the Colors choices Game as follows: \n",
      "Enter a number from one two five and match computer choice to Win the computer.\n",
      "****************************************Lets Start the Game*****************************************\n",
      "Colors We Have:\n",
      "red = 1 \n",
      "yellow = 2 \n",
      "orange = 3 \n",
      "green = 4 \n",
      "blue = 5 \n",
      "take a turn: \n",
      "                         --------------------User Turn---------------------                         \n",
      "User Choice:1\n",
      "User color Choice is: red\n",
      "Now its computer turn to choose a color..........\n",
      "                         ------------------Computer Turn-------------------                         \n",
      "Computer color Choice is: red\n",
      "player_score: 1\n",
      "computer_score: 1\n",
      "Do you want to play again(Y/N):N\n"
     ]
    }
   ],
   "source": [
    "print(\"Winning Rules of the Colors choices Game as follows: \"+ \"\\nEnter a number from one two five and match computer choice to Win the computer.\")\n",
    "comp_s=0   #computer score\n",
    "plr_s=0   #player score\n",
    "print('Lets Start the Game'.center(100,'*'))\n",
    "\n",
    "while (True):\n",
    "    print(\"Colors We Have:\\nred = 1 \\nyellow = 2 \\norange = 3 \\ngreen = 4 \\nblue = 5 \\ntake a turn: \")\n",
    "    print(('User Turn'.center(50,'-').center(100,' ')))\n",
    "    plr_c=int(input('User Choice:')) #choice\n",
    "    \n",
    "    while plr_c<1 and plr_c>5:\n",
    "        plr_c=int(input(\"Enter valid Choice:\"))\n",
    "    res=choice(plr_c)\n",
    "    print('User color Choice is:',res)\n",
    "    \n",
    "    #for better view i am adding this\n",
    "    print('Now its computer turn to choose a color',end='')\n",
    "    for i in range(10):\n",
    "        time.sleep(1)\n",
    "        print('.',end='')\n",
    "    print()\n",
    "    \n",
    "    print(('Computer Turn'.center(50,'-').center(100,' ')))\n",
    "    comp_c=r.randint(1,5)\n",
    "    res=choice(comp_c)\n",
    "    comp_s=comp_s+1\n",
    "    print('Computer color Choice is:',res)\n",
    "    \n",
    "    if comp_c == plr_c:\n",
    "        plr_s=plr_s+1\n",
    "        \n",
    "    print('player_score:',plr_s)\n",
    "    print('computer_score:',comp_s)\n",
    "    \n",
    "    ans=input(\"Do you want to play again(Y/N):\")\n",
    "    if ans.lower()=='n':\n",
    "        break"
   ]
  },
  {
   "cell_type": "code",
   "execution_count": 4,
   "id": "444b6e0b",
   "metadata": {},
   "outputs": [
    {
     "name": "stdout",
     "output_type": "stream",
     "text": [
      "Game is Tied\n",
      "\n",
      "Thanks for playing\n"
     ]
    }
   ],
   "source": [
    "if comp_s == plr_s:\n",
    "    print(\"Game is Tied\")\n",
    "    print(\"\\nThanks for playing\") \n",
    "elif comp_s < plr_s:\n",
    "    print(\"Player is Victorious\")\n",
    "    print(\"<== User wins ==>\")\n",
    "    print(\"\\nThanks for playing\")\n",
    "elif comp_s > plr_s:\n",
    "    print(\"\\n<== Computer wins ==>\")\n",
    "    print(\"\\nPlayer is Defeated\")\n",
    "    print(\"\\nThanks for playing\")    "
   ]
  },
  {
   "cell_type": "code",
   "execution_count": null,
   "id": "2de384fd",
   "metadata": {},
   "outputs": [],
   "source": []
  }
 ],
 "metadata": {
  "kernelspec": {
   "display_name": "Python 3 (ipykernel)",
   "language": "python",
   "name": "python3"
  },
  "language_info": {
   "codemirror_mode": {
    "name": "ipython",
    "version": 3
   },
   "file_extension": ".py",
   "mimetype": "text/x-python",
   "name": "python",
   "nbconvert_exporter": "python",
   "pygments_lexer": "ipython3",
   "version": "3.9.7"
  }
 },
 "nbformat": 4,
 "nbformat_minor": 5
}
